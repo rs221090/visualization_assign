{
 "cells": [
  {
   "cell_type": "markdown",
   "id": "1bcd7746-7b5c-4f43-9e18-6d71fb105934",
   "metadata": {},
   "source": [
    "# PLOTLY ASSIGNMENT"
   ]
  },
  {
   "cell_type": "code",
   "execution_count": 2,
   "id": "62f9282e-75ca-40eb-ba01-c19ac2da2ce9",
   "metadata": {},
   "outputs": [
    {
     "name": "stdout",
     "output_type": "stream",
     "text": [
      "Requirement already satisfied: plotly in /opt/conda/lib/python3.10/site-packages (5.23.0)\n",
      "Requirement already satisfied: tenacity>=6.2.0 in /opt/conda/lib/python3.10/site-packages (from plotly) (9.0.0)\n",
      "Requirement already satisfied: packaging in /opt/conda/lib/python3.10/site-packages (from plotly) (22.0)\n",
      "Note: you may need to restart the kernel to use updated packages.\n"
     ]
    }
   ],
   "source": [
    "pip install plotly"
   ]
  },
  {
   "cell_type": "code",
   "execution_count": 4,
   "id": "dd30f1fb-92fe-400f-8017-7dbd37d60ffe",
   "metadata": {},
   "outputs": [],
   "source": [
    "import pandas as pd\n",
    "import numpy as np\n",
    "import plotly.graph_objects as go\n",
    "import plotly.express as px\n",
    "import warnings\n",
    "warnings.filterwarnings(\"ignore\")"
   ]
  },
  {
   "cell_type": "markdown",
   "id": "94d16e3d-2885-4f21-846d-fbec7fbc78ea",
   "metadata": {},
   "source": [
    "1. Using the given dataset, to generate a 3D scatter plot to visualize the distribution of data points in a threedimensional space.\n",
    "np.random.seed(30) ",
    "\n",
    "data = { ",
    "\n",
    "    'X': np.random.uniform(-10, 10, 300), ",
    "\n",
    "    'Y': np.random.uniform(-10, 10, 300), ",
    "\n",
    "    'Z': np.random.uniform(-10, 10, 300) ",
    "\n",
    "} ",
    "\n",
    "df = pd.DataFrame(data)"
   ]
  },
  {
   "cell_type": "code",
   "execution_count": 15,
   "id": "b34000e2-6548-45e0-8ff4-202a2076c854",
   "metadata": {},
   "outputs": [
    {
     "data": {
      "text/html": [
       "<div>\n",
       "<style scoped>\n",
       "    .dataframe tbody tr th:only-of-type {\n",
       "        vertical-align: middle;\n",
       "    }\n",
       "\n",
       "    .dataframe tbody tr th {\n",
       "        vertical-align: top;\n",
       "    }\n",
       "\n",
       "    .dataframe thead th {\n",
       "        text-align: right;\n",
       "    }\n",
       "</style>\n",
       "<table border=\"1\" class=\"dataframe\">\n",
       "  <thead>\n",
       "    <tr style=\"text-align: right;\">\n",
       "      <th></th>\n",
       "      <th>X</th>\n",
       "      <th>Y</th>\n",
       "      <th>Z</th>\n",
       "    </tr>\n",
       "  </thead>\n",
       "  <tbody>\n",
       "    <tr>\n",
       "      <th>0</th>\n",
       "      <td>2.882871</td>\n",
       "      <td>-7.376076</td>\n",
       "      <td>6.925787</td>\n",
       "    </tr>\n",
       "    <tr>\n",
       "      <th>1</th>\n",
       "      <td>-2.385030</td>\n",
       "      <td>-5.950714</td>\n",
       "      <td>-8.410773</td>\n",
       "    </tr>\n",
       "    <tr>\n",
       "      <th>2</th>\n",
       "      <td>3.260958</td>\n",
       "      <td>0.853469</td>\n",
       "      <td>-6.647725</td>\n",
       "    </tr>\n",
       "    <tr>\n",
       "      <th>3</th>\n",
       "      <td>-6.726985</td>\n",
       "      <td>-6.602615</td>\n",
       "      <td>-3.725201</td>\n",
       "    </tr>\n",
       "    <tr>\n",
       "      <th>4</th>\n",
       "      <td>9.252156</td>\n",
       "      <td>-4.791792</td>\n",
       "      <td>-0.580081</td>\n",
       "    </tr>\n",
       "    <tr>\n",
       "      <th>...</th>\n",
       "      <td>...</td>\n",
       "      <td>...</td>\n",
       "      <td>...</td>\n",
       "    </tr>\n",
       "    <tr>\n",
       "      <th>295</th>\n",
       "      <td>-0.369458</td>\n",
       "      <td>-6.543074</td>\n",
       "      <td>9.941758</td>\n",
       "    </tr>\n",
       "    <tr>\n",
       "      <th>296</th>\n",
       "      <td>-3.675668</td>\n",
       "      <td>-6.671420</td>\n",
       "      <td>-2.019459</td>\n",
       "    </tr>\n",
       "    <tr>\n",
       "      <th>297</th>\n",
       "      <td>-6.393715</td>\n",
       "      <td>-6.040683</td>\n",
       "      <td>1.774010</td>\n",
       "    </tr>\n",
       "    <tr>\n",
       "      <th>298</th>\n",
       "      <td>-0.007816</td>\n",
       "      <td>9.738364</td>\n",
       "      <td>-1.721501</td>\n",
       "    </tr>\n",
       "    <tr>\n",
       "      <th>299</th>\n",
       "      <td>-4.623348</td>\n",
       "      <td>7.697305</td>\n",
       "      <td>1.604021</td>\n",
       "    </tr>\n",
       "  </tbody>\n",
       "</table>\n",
       "<p>300 rows × 3 columns</p>\n",
       "</div>"
      ],
      "text/plain": [
       "            X         Y         Z\n",
       "0    2.882871 -7.376076  6.925787\n",
       "1   -2.385030 -5.950714 -8.410773\n",
       "2    3.260958  0.853469 -6.647725\n",
       "3   -6.726985 -6.602615 -3.725201\n",
       "4    9.252156 -4.791792 -0.580081\n",
       "..        ...       ...       ...\n",
       "295 -0.369458 -6.543074  9.941758\n",
       "296 -3.675668 -6.671420 -2.019459\n",
       "297 -6.393715 -6.040683  1.774010\n",
       "298 -0.007816  9.738364 -1.721501\n",
       "299 -4.623348  7.697305  1.604021\n",
       "\n",
       "[300 rows x 3 columns]"
      ]
     },
     "execution_count": 15,
     "metadata": {},
     "output_type": "execute_result"
    }
   ],
   "source": [
    "#solution 1\n",
    "np.random.seed(30)\n",
    "data = {\n",
    "    'X': np.random.uniform(-10, 10, 300),\n",
    "    'Y': np.random.uniform(-10, 10, 300),\n",
    "    'Z': np.random.uniform(-10, 10, 300)\n",
    "}\n",
    "df = pd.DataFrame(data)\n",
    "df"
   ]
  },
  {
   "cell_type": "code",
   "execution_count": 16,
   "id": "0b5b9f2e-9288-4cec-87aa-34b0738861a3",
   "metadata": {},
   "outputs": [
    {
     "data": {
      "text/html": [
       "<iframe\n",
       "    scrolling=\"no\"\n",
       "    width=\"100%\"\n",
       "    height=\"545px\"\n",
       "    src=\"iframe_figures/figure_16.html\"\n",
       "    frameborder=\"0\"\n",
       "    allowfullscreen\n",
       "></iframe>\n"
      ]
     },
     "metadata": {},
     "output_type": "display_data"
    }
   ],
   "source": [
    "import plotly.io as pio\n",
    "pio.renderers.default = 'iframe'\n",
    "fig = go.Figure()\n",
    "fig.add_trace(go.Scatter3d(x= df.X,y = df.Y,z = df.Z))"
   ]
  },
  {
   "cell_type": "markdown",
   "id": "ff5ac490-cac1-4925-94be-98a9ad634986",
   "metadata": {},
   "source": [
    "2. Using the Student Grades, create a violin plot to display the distribution of scores across different grade\n",
    "categories.\n",
    "np.random.seed(15) ",
    "\n",
    "data = { ",
    "\n",
    "    'Grade': np.random.choice(['A', 'B', 'C', 'D', 'F'], 200), ",
    "\n",
    "    'Score': np.random.randint(50, 100, 200) ",
    "\n",
    "} ",
    "\n",
    "df = pd.DataFrame(data"
   ]
  },
  {
   "cell_type": "code",
   "execution_count": 18,
   "id": "42e63887-c8c4-45a0-bf1b-905b057a1779",
   "metadata": {},
   "outputs": [
    {
     "data": {
      "text/html": [
       "<div>\n",
       "<style scoped>\n",
       "    .dataframe tbody tr th:only-of-type {\n",
       "        vertical-align: middle;\n",
       "    }\n",
       "\n",
       "    .dataframe tbody tr th {\n",
       "        vertical-align: top;\n",
       "    }\n",
       "\n",
       "    .dataframe thead th {\n",
       "        text-align: right;\n",
       "    }\n",
       "</style>\n",
       "<table border=\"1\" class=\"dataframe\">\n",
       "  <thead>\n",
       "    <tr style=\"text-align: right;\">\n",
       "      <th></th>\n",
       "      <th>Grade</th>\n",
       "      <th>Score</th>\n",
       "    </tr>\n",
       "  </thead>\n",
       "  <tbody>\n",
       "    <tr>\n",
       "      <th>0</th>\n",
       "      <td>A</td>\n",
       "      <td>89</td>\n",
       "    </tr>\n",
       "    <tr>\n",
       "      <th>1</th>\n",
       "      <td>F</td>\n",
       "      <td>50</td>\n",
       "    </tr>\n",
       "    <tr>\n",
       "      <th>2</th>\n",
       "      <td>A</td>\n",
       "      <td>72</td>\n",
       "    </tr>\n",
       "    <tr>\n",
       "      <th>3</th>\n",
       "      <td>F</td>\n",
       "      <td>66</td>\n",
       "    </tr>\n",
       "    <tr>\n",
       "      <th>4</th>\n",
       "      <td>D</td>\n",
       "      <td>87</td>\n",
       "    </tr>\n",
       "    <tr>\n",
       "      <th>...</th>\n",
       "      <td>...</td>\n",
       "      <td>...</td>\n",
       "    </tr>\n",
       "    <tr>\n",
       "      <th>195</th>\n",
       "      <td>F</td>\n",
       "      <td>78</td>\n",
       "    </tr>\n",
       "    <tr>\n",
       "      <th>196</th>\n",
       "      <td>D</td>\n",
       "      <td>84</td>\n",
       "    </tr>\n",
       "    <tr>\n",
       "      <th>197</th>\n",
       "      <td>A</td>\n",
       "      <td>93</td>\n",
       "    </tr>\n",
       "    <tr>\n",
       "      <th>198</th>\n",
       "      <td>D</td>\n",
       "      <td>67</td>\n",
       "    </tr>\n",
       "    <tr>\n",
       "      <th>199</th>\n",
       "      <td>C</td>\n",
       "      <td>56</td>\n",
       "    </tr>\n",
       "  </tbody>\n",
       "</table>\n",
       "<p>200 rows × 2 columns</p>\n",
       "</div>"
      ],
      "text/plain": [
       "    Grade  Score\n",
       "0       A     89\n",
       "1       F     50\n",
       "2       A     72\n",
       "3       F     66\n",
       "4       D     87\n",
       "..    ...    ...\n",
       "195     F     78\n",
       "196     D     84\n",
       "197     A     93\n",
       "198     D     67\n",
       "199     C     56\n",
       "\n",
       "[200 rows x 2 columns]"
      ]
     },
     "execution_count": 18,
     "metadata": {},
     "output_type": "execute_result"
    }
   ],
   "source": [
    "#solution 2\n",
    "np.random.seed(15)\n",
    "data = {\n",
    "    'Grade': np.random.choice(['A', 'B', 'C', 'D', 'F'], 200),\n",
    "    'Score': np.random.randint(50, 100, 200)\n",
    "}\n",
    "df = pd.DataFrame(data)\n",
    "df"
   ]
  },
  {
   "cell_type": "code",
   "execution_count": 19,
   "id": "03af3706-a45d-4b4e-b11b-ab8f53fc5b06",
   "metadata": {},
   "outputs": [
    {
     "data": {
      "text/html": [
       "<iframe\n",
       "    scrolling=\"no\"\n",
       "    width=\"100%\"\n",
       "    height=\"545px\"\n",
       "    src=\"iframe_figures/figure_19.html\"\n",
       "    frameborder=\"0\"\n",
       "    allowfullscreen\n",
       "></iframe>\n"
      ]
     },
     "metadata": {},
     "output_type": "display_data"
    }
   ],
   "source": [
    "fig = px.violin(x = df.Grade,y = df.Score)\n",
    "fig.show()"
   ]
  },
  {
   "cell_type": "markdown",
   "id": "6c617bab-4efd-46cf-bef7-50fcc946c4d3",
   "metadata": {},
   "source": [
    "3. Using the sales data, generate a heatmap to visualize the variation in sales across different months and\n",
    "days.\n",
    "np.random.seed(20) ",
    "\n",
    "data = { ",
    "\n",
    "    'Month': np.random.choice(['Jan', 'Feb', 'Mar', 'Apr', 'May'], 100), ",
    "\n",
    "    'Day': np.random.choice(range(1, 31), 100), ",
    "\n",
    "    'Sales': np.random.randint(1000, 5000, 100) ",
    "\n",
    "} ",
    "\n",
    "df = pd.DataFrame(data)"
   ]
  },
  {
   "cell_type": "code",
   "execution_count": 21,
   "id": "3cef978b-ab95-42f1-9ba9-0f4dc5d9ffe3",
   "metadata": {},
   "outputs": [
    {
     "data": {
      "text/html": [
       "<div>\n",
       "<style scoped>\n",
       "    .dataframe tbody tr th:only-of-type {\n",
       "        vertical-align: middle;\n",
       "    }\n",
       "\n",
       "    .dataframe tbody tr th {\n",
       "        vertical-align: top;\n",
       "    }\n",
       "\n",
       "    .dataframe thead th {\n",
       "        text-align: right;\n",
       "    }\n",
       "</style>\n",
       "<table border=\"1\" class=\"dataframe\">\n",
       "  <thead>\n",
       "    <tr style=\"text-align: right;\">\n",
       "      <th></th>\n",
       "      <th>Month</th>\n",
       "      <th>Day</th>\n",
       "      <th>Sales</th>\n",
       "    </tr>\n",
       "  </thead>\n",
       "  <tbody>\n",
       "    <tr>\n",
       "      <th>0</th>\n",
       "      <td>Apr</td>\n",
       "      <td>23</td>\n",
       "      <td>4835</td>\n",
       "    </tr>\n",
       "    <tr>\n",
       "      <th>1</th>\n",
       "      <td>Mar</td>\n",
       "      <td>10</td>\n",
       "      <td>2099</td>\n",
       "    </tr>\n",
       "    <tr>\n",
       "      <th>2</th>\n",
       "      <td>May</td>\n",
       "      <td>10</td>\n",
       "      <td>2094</td>\n",
       "    </tr>\n",
       "    <tr>\n",
       "      <th>3</th>\n",
       "      <td>Mar</td>\n",
       "      <td>22</td>\n",
       "      <td>4809</td>\n",
       "    </tr>\n",
       "    <tr>\n",
       "      <th>4</th>\n",
       "      <td>Feb</td>\n",
       "      <td>3</td>\n",
       "      <td>1969</td>\n",
       "    </tr>\n",
       "    <tr>\n",
       "      <th>...</th>\n",
       "      <td>...</td>\n",
       "      <td>...</td>\n",
       "      <td>...</td>\n",
       "    </tr>\n",
       "    <tr>\n",
       "      <th>95</th>\n",
       "      <td>May</td>\n",
       "      <td>19</td>\n",
       "      <td>1375</td>\n",
       "    </tr>\n",
       "    <tr>\n",
       "      <th>96</th>\n",
       "      <td>Mar</td>\n",
       "      <td>12</td>\n",
       "      <td>3909</td>\n",
       "    </tr>\n",
       "    <tr>\n",
       "      <th>97</th>\n",
       "      <td>Feb</td>\n",
       "      <td>20</td>\n",
       "      <td>2264</td>\n",
       "    </tr>\n",
       "    <tr>\n",
       "      <th>98</th>\n",
       "      <td>May</td>\n",
       "      <td>16</td>\n",
       "      <td>1548</td>\n",
       "    </tr>\n",
       "    <tr>\n",
       "      <th>99</th>\n",
       "      <td>Feb</td>\n",
       "      <td>9</td>\n",
       "      <td>3893</td>\n",
       "    </tr>\n",
       "  </tbody>\n",
       "</table>\n",
       "<p>100 rows × 3 columns</p>\n",
       "</div>"
      ],
      "text/plain": [
       "   Month  Day  Sales\n",
       "0    Apr   23   4835\n",
       "1    Mar   10   2099\n",
       "2    May   10   2094\n",
       "3    Mar   22   4809\n",
       "4    Feb    3   1969\n",
       "..   ...  ...    ...\n",
       "95   May   19   1375\n",
       "96   Mar   12   3909\n",
       "97   Feb   20   2264\n",
       "98   May   16   1548\n",
       "99   Feb    9   3893\n",
       "\n",
       "[100 rows x 3 columns]"
      ]
     },
     "execution_count": 21,
     "metadata": {},
     "output_type": "execute_result"
    }
   ],
   "source": [
    "#solution 3\n",
    "\n",
    "np.random.seed(20)\n",
    "data = {\n",
    "    'Month': np.random.choice(['Jan', 'Feb', 'Mar', 'Apr', 'May'], 100),\n",
    "    'Day': np.random.choice(range(1, 31), 100),\n",
    "    'Sales': np.random.randint(1000, 5000, 100)\n",
    "}\n",
    "df = pd.DataFrame(data)\n",
    "df"
   ]
  },
  {
   "cell_type": "code",
   "execution_count": 25,
   "id": "7971ee0b-79ab-4960-93ce-75fa50387ba8",
   "metadata": {},
   "outputs": [
    {
     "data": {
      "text/html": [
       "<iframe\n",
       "    scrolling=\"no\"\n",
       "    width=\"100%\"\n",
       "    height=\"545px\"\n",
       "    src=\"iframe_figures/figure_25.html\"\n",
       "    frameborder=\"0\"\n",
       "    allowfullscreen\n",
       "></iframe>\n"
      ]
     },
     "metadata": {},
     "output_type": "display_data"
    }
   ],
   "source": [
    "fig = px.imshow(df,text_auto = True)\n",
    "fig.show()"
   ]
  },
  {
   "cell_type": "markdown",
   "id": "ecc5f846-3443-412e-ada3-4cdc700f37fe",
   "metadata": {},
   "source": [
    "4. Using the given x and y data, generate a 3D surface plot to visualize the function \n",
    "x = np.linspace(-5, 5, 100) ",
    "\n",
    "y = np.linspace(-5, 5, 100) ",
    "\n",
    "x, y = np.meshgrid(x, y) ",
    "\n",
    "z = np.sin(np.sqrt(x**2 + y**2)) ",
    " ",
    "\n",
    "data = { ",
    "\n",
    "    'X': x.flatten(), ",
    "\n",
    "    'Y': y.flatten(), ",
    "\n",
    "    'Z': z.flatten() ",
    "\n",
    "} ",
    "\n",
    "df = pd.DataFrame(data)"
   ]
  },
  {
   "cell_type": "code",
   "execution_count": 28,
   "id": "9af84574-26d1-426f-a9cc-f2a680af9dcc",
   "metadata": {},
   "outputs": [
    {
     "data": {
      "text/html": [
       "<div>\n",
       "<style scoped>\n",
       "    .dataframe tbody tr th:only-of-type {\n",
       "        vertical-align: middle;\n",
       "    }\n",
       "\n",
       "    .dataframe tbody tr th {\n",
       "        vertical-align: top;\n",
       "    }\n",
       "\n",
       "    .dataframe thead th {\n",
       "        text-align: right;\n",
       "    }\n",
       "</style>\n",
       "<table border=\"1\" class=\"dataframe\">\n",
       "  <thead>\n",
       "    <tr style=\"text-align: right;\">\n",
       "      <th></th>\n",
       "      <th>X</th>\n",
       "      <th>Y</th>\n",
       "      <th>Z</th>\n",
       "    </tr>\n",
       "  </thead>\n",
       "  <tbody>\n",
       "    <tr>\n",
       "      <th>0</th>\n",
       "      <td>-5.00000</td>\n",
       "      <td>-5.00000</td>\n",
       "      <td>0.708861</td>\n",
       "    </tr>\n",
       "    <tr>\n",
       "      <th>1</th>\n",
       "      <td>-4.89899</td>\n",
       "      <td>-4.89899</td>\n",
       "      <td>0.601225</td>\n",
       "    </tr>\n",
       "    <tr>\n",
       "      <th>2</th>\n",
       "      <td>-4.79798</td>\n",
       "      <td>-4.79798</td>\n",
       "      <td>0.481340</td>\n",
       "    </tr>\n",
       "    <tr>\n",
       "      <th>3</th>\n",
       "      <td>-4.69697</td>\n",
       "      <td>-4.69697</td>\n",
       "      <td>0.351650</td>\n",
       "    </tr>\n",
       "    <tr>\n",
       "      <th>4</th>\n",
       "      <td>-4.59596</td>\n",
       "      <td>-4.59596</td>\n",
       "      <td>0.214796</td>\n",
       "    </tr>\n",
       "    <tr>\n",
       "      <th>...</th>\n",
       "      <td>...</td>\n",
       "      <td>...</td>\n",
       "      <td>...</td>\n",
       "    </tr>\n",
       "    <tr>\n",
       "      <th>95</th>\n",
       "      <td>4.59596</td>\n",
       "      <td>4.59596</td>\n",
       "      <td>0.214796</td>\n",
       "    </tr>\n",
       "    <tr>\n",
       "      <th>96</th>\n",
       "      <td>4.69697</td>\n",
       "      <td>4.69697</td>\n",
       "      <td>0.351650</td>\n",
       "    </tr>\n",
       "    <tr>\n",
       "      <th>97</th>\n",
       "      <td>4.79798</td>\n",
       "      <td>4.79798</td>\n",
       "      <td>0.481340</td>\n",
       "    </tr>\n",
       "    <tr>\n",
       "      <th>98</th>\n",
       "      <td>4.89899</td>\n",
       "      <td>4.89899</td>\n",
       "      <td>0.601225</td>\n",
       "    </tr>\n",
       "    <tr>\n",
       "      <th>99</th>\n",
       "      <td>5.00000</td>\n",
       "      <td>5.00000</td>\n",
       "      <td>0.708861</td>\n",
       "    </tr>\n",
       "  </tbody>\n",
       "</table>\n",
       "<p>100 rows × 3 columns</p>\n",
       "</div>"
      ],
      "text/plain": [
       "          X        Y         Z\n",
       "0  -5.00000 -5.00000  0.708861\n",
       "1  -4.89899 -4.89899  0.601225\n",
       "2  -4.79798 -4.79798  0.481340\n",
       "3  -4.69697 -4.69697  0.351650\n",
       "4  -4.59596 -4.59596  0.214796\n",
       "..      ...      ...       ...\n",
       "95  4.59596  4.59596  0.214796\n",
       "96  4.69697  4.69697  0.351650\n",
       "97  4.79798  4.79798  0.481340\n",
       "98  4.89899  4.89899  0.601225\n",
       "99  5.00000  5.00000  0.708861\n",
       "\n",
       "[100 rows x 3 columns]"
      ]
     },
     "execution_count": 28,
     "metadata": {},
     "output_type": "execute_result"
    }
   ],
   "source": [
    "#solution 4\n",
    "x = np.linspace(-5, 5, 100)\n",
    "y = np.linspace(-5, 5, 100)\n",
    "#x, y = np.meshgrid(x, y)\n",
    "z = np.sin(np.sqrt(x**2 + y**2))\n",
    "data = {\n",
    "    'X': x.flatten(),\n",
    "    'Y': y.flatten(),\n",
    "    'Z': z.flatten()\n",
    "}\n",
    "df = pd.DataFrame(data)\n",
    "df"
   ]
  },
  {
   "cell_type": "code",
   "execution_count": 58,
   "id": "ce701aeb-dcf8-46ce-860d-bd240dbd402d",
   "metadata": {},
   "outputs": [
    {
     "data": {
      "text/html": [
       "<iframe\n",
       "    scrolling=\"no\"\n",
       "    width=\"100%\"\n",
       "    height=\"545px\"\n",
       "    src=\"iframe_figures/figure_58.html\"\n",
       "    frameborder=\"0\"\n",
       "    allowfullscreen\n",
       "></iframe>\n"
      ]
     },
     "metadata": {},
     "output_type": "display_data"
    }
   ],
   "source": [
    "fig = go.Figure()\n",
    "fig.add_trace(go.Scatter3d(z = df.Z,x= df.X,y = df.Y))"
   ]
  },
  {
   "cell_type": "markdown",
   "id": "8b5e9441-2d26-414b-b353-046cebd94d86",
   "metadata": {},
   "source": [
    "5. Using the given dataset, create a bubble chart to represent each country's population (y-axis), GDP (xaxis), and bubble size proportional to the population.\n",
    "np.random.seed(25) ",
    "\n",
    "data = { ",
    "\n",
    "    'Country': ['USA', 'Canada', 'UK',\n",
    "'Germany', 'France'], ",
    "\n",
    "    'Population':\n",
    "np.random.randint(100, 1000, 5), ",
    "\n",
    "    'GDP': np.random.randint(500, 2000,\n",
    "5) ",
    "\n",
    "} ",
    "\n",
    "df = pd.DataFrame(data)"
   ]
  },
  {
   "cell_type": "code",
   "execution_count": 60,
   "id": "bb4cd7dd-b2eb-45d4-9def-378b64bbdabb",
   "metadata": {},
   "outputs": [
    {
     "data": {
      "text/html": [
       "<div>\n",
       "<style scoped>\n",
       "    .dataframe tbody tr th:only-of-type {\n",
       "        vertical-align: middle;\n",
       "    }\n",
       "\n",
       "    .dataframe tbody tr th {\n",
       "        vertical-align: top;\n",
       "    }\n",
       "\n",
       "    .dataframe thead th {\n",
       "        text-align: right;\n",
       "    }\n",
       "</style>\n",
       "<table border=\"1\" class=\"dataframe\">\n",
       "  <thead>\n",
       "    <tr style=\"text-align: right;\">\n",
       "      <th></th>\n",
       "      <th>Country</th>\n",
       "      <th>Population</th>\n",
       "      <th>GDP</th>\n",
       "    </tr>\n",
       "  </thead>\n",
       "  <tbody>\n",
       "    <tr>\n",
       "      <th>0</th>\n",
       "      <td>USA</td>\n",
       "      <td>232</td>\n",
       "      <td>1386</td>\n",
       "    </tr>\n",
       "    <tr>\n",
       "      <th>1</th>\n",
       "      <td>Canada</td>\n",
       "      <td>418</td>\n",
       "      <td>755</td>\n",
       "    </tr>\n",
       "    <tr>\n",
       "      <th>2</th>\n",
       "      <td>UK</td>\n",
       "      <td>574</td>\n",
       "      <td>1675</td>\n",
       "    </tr>\n",
       "    <tr>\n",
       "      <th>3</th>\n",
       "      <td>Germany</td>\n",
       "      <td>243</td>\n",
       "      <td>1440</td>\n",
       "    </tr>\n",
       "    <tr>\n",
       "      <th>4</th>\n",
       "      <td>France</td>\n",
       "      <td>417</td>\n",
       "      <td>1265</td>\n",
       "    </tr>\n",
       "  </tbody>\n",
       "</table>\n",
       "</div>"
      ],
      "text/plain": [
       "   Country  Population   GDP\n",
       "0      USA         232  1386\n",
       "1   Canada         418   755\n",
       "2       UK         574  1675\n",
       "3  Germany         243  1440\n",
       "4   France         417  1265"
      ]
     },
     "execution_count": 60,
     "metadata": {},
     "output_type": "execute_result"
    }
   ],
   "source": [
    "#Solution 5\n",
    "np.random.seed(25)\n",
    "data = {\n",
    "    'Country': ['USA', 'Canada', 'UK',\n",
    "'Germany', 'France'],\n",
    "    'Population':\n",
    "np.random.randint(100, 1000, 5),\n",
    "    'GDP': np.random.randint(500, 2000,\n",
    "5)\n",
    "}\n",
    "df = pd.DataFrame(data)\n",
    "df"
   ]
  },
  {
   "cell_type": "code",
   "execution_count": 65,
   "id": "52c47659-9a19-41bd-8d80-67a8340a5dd0",
   "metadata": {},
   "outputs": [
    {
     "data": {
      "text/html": [
       "<iframe\n",
       "    scrolling=\"no\"\n",
       "    width=\"100%\"\n",
       "    height=\"545px\"\n",
       "    src=\"iframe_figures/figure_65.html\"\n",
       "    frameborder=\"0\"\n",
       "    allowfullscreen\n",
       "></iframe>\n"
      ]
     },
     "metadata": {},
     "output_type": "display_data"
    }
   ],
   "source": [
    "fig = px.scatter(x = df.Country,y = df.GDP,size = df.Population)\n",
    "fig.show()\n"
   ]
  },
  {
   "cell_type": "code",
   "execution_count": null,
   "id": "9a06dc99-a42e-4f10-9ddf-a5997e630c52",
   "metadata": {},
   "outputs": [],
   "source": []
  }
 ],
 "metadata": {
  "kernelspec": {
   "display_name": "Python 3 (ipykernel)",
   "language": "python",
   "name": "python3"
  },
  "language_info": {
   "codemirror_mode": {
    "name": "ipython",
    "version": 3
   },
   "file_extension": ".py",
   "mimetype": "text/x-python",
   "name": "python",
   "nbconvert_exporter": "python",
   "pygments_lexer": "ipython3",
   "version": "3.10.8"
  }
 },
 "nbformat": 4,
 "nbformat_minor": 5
}
